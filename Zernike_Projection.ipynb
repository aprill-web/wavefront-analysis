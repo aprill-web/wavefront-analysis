{
  "nbformat": 4,
  "nbformat_minor": 0,
  "metadata": {
    "colab": {
      "provenance": []
    },
    "kernelspec": {
      "name": "python3",
      "display_name": "Python 3"
    },
    "language_info": {
      "name": "python"
    }
  },
  "cells": [
    {
      "cell_type": "code",
      "source": [
        "!pip install zernpy\n",
        "import matplotlib.pyplot as plt\n",
        "import numpy as np\n",
        "import cv2\n",
        "import pandas as pd\n",
        "import zernpy\n",
        "from zernpy import ZernPol\n",
        "from zernpy import generate_polynomials, fit_polynomials, generate_random_phases, generate_phases_image, fit_polynomials_vectors"
      ],
      "metadata": {
        "colab": {
          "base_uri": "https://localhost:8080/"
        },
        "id": "OXKjN-vOg7Gi",
        "outputId": "ce92d273-ae27-4af5-dc31-337938ddf8ec"
      },
      "execution_count": 2,
      "outputs": [
        {
          "output_type": "stream",
          "name": "stdout",
          "text": [
            "Collecting zernpy\n",
            "  Downloading zernpy-0.0.15-py3-none-any.whl.metadata (14 kB)\n",
            "Requirement already satisfied: numpy in /usr/local/lib/python3.11/dist-packages (from zernpy) (2.0.2)\n",
            "Requirement already satisfied: matplotlib in /usr/local/lib/python3.11/dist-packages (from zernpy) (3.10.0)\n",
            "Requirement already satisfied: scipy in /usr/local/lib/python3.11/dist-packages (from zernpy) (1.15.2)\n",
            "Requirement already satisfied: contourpy>=1.0.1 in /usr/local/lib/python3.11/dist-packages (from matplotlib->zernpy) (1.3.2)\n",
            "Requirement already satisfied: cycler>=0.10 in /usr/local/lib/python3.11/dist-packages (from matplotlib->zernpy) (0.12.1)\n",
            "Requirement already satisfied: fonttools>=4.22.0 in /usr/local/lib/python3.11/dist-packages (from matplotlib->zernpy) (4.57.0)\n",
            "Requirement already satisfied: kiwisolver>=1.3.1 in /usr/local/lib/python3.11/dist-packages (from matplotlib->zernpy) (1.4.8)\n",
            "Requirement already satisfied: packaging>=20.0 in /usr/local/lib/python3.11/dist-packages (from matplotlib->zernpy) (24.2)\n",
            "Requirement already satisfied: pillow>=8 in /usr/local/lib/python3.11/dist-packages (from matplotlib->zernpy) (11.2.1)\n",
            "Requirement already satisfied: pyparsing>=2.3.1 in /usr/local/lib/python3.11/dist-packages (from matplotlib->zernpy) (3.2.3)\n",
            "Requirement already satisfied: python-dateutil>=2.7 in /usr/local/lib/python3.11/dist-packages (from matplotlib->zernpy) (2.9.0.post0)\n",
            "Requirement already satisfied: six>=1.5 in /usr/local/lib/python3.11/dist-packages (from python-dateutil>=2.7->matplotlib->zernpy) (1.17.0)\n",
            "Downloading zernpy-0.0.15-py3-none-any.whl (96 kB)\n",
            "\u001b[2K   \u001b[90m━━━━━━━━━━━━━━━━━━━━━━━━━━━━━━━━━━━━━━━━\u001b[0m \u001b[32m96.2/96.2 kB\u001b[0m \u001b[31m6.8 MB/s\u001b[0m eta \u001b[36m0:00:00\u001b[0m\n",
            "\u001b[?25hInstalling collected packages: zernpy\n",
            "Successfully installed zernpy-0.0.15\n"
          ]
        }
      ]
    },
    {
      "cell_type": "code",
      "source": [
        "#Creating a mask\n",
        "\n",
        "# Get image dimensions\n",
        "height, width = (420,420)\n",
        "\n",
        "# Calculate center coordinates\n",
        "center_x = width // 2\n",
        "center_y = height // 2\n",
        "\n",
        "# Define radius of the circular mask\n",
        "radius = min(center_x, center_y)  # Use the smaller dimension to ensure the circle fits\n",
        "\n",
        "# Create a meshgrid of coordinates\n",
        "Y, X = np.ogrid[:height, :width]\n",
        "\n",
        "# Calculate distance from the center for each point\n",
        "dist_from_center = np.sqrt((X - center_x)**2 + (Y - center_y)**2)\n",
        "\n",
        "# Create the circular mask\n",
        "mask = dist_from_center <= radius"
      ],
      "metadata": {
        "id": "yvSYB0s5gz7N"
      },
      "execution_count": null,
      "outputs": []
    },
    {
      "cell_type": "code",
      "source": [
        "def rms(data):\n",
        "    return np.sqrt(np.mean((data - np.mean(data))**2))"
      ],
      "metadata": {
        "id": "t6hYAqlxhYC6"
      },
      "execution_count": null,
      "outputs": []
    },
    {
      "cell_type": "code",
      "source": [
        "from google.colab import files\n",
        "h = []\n",
        "rms_value=[]\n",
        "for i in range(1,25,1):\n",
        "  h.append(ZernPol(noll_index=i))\n",
        "zernike_cof = np.empty((1000,24)) # 25 set of Zernike Polynomials to be extracted\n",
        "for i in range(314,1000,1):\n",
        "  f = np.load(f\"frame_{i:04d}.npy\", allow_pickle=True) # loading the wavefront frame saved in .npy format\n",
        "  R, Theta = ZernPol.gen_equal_polar_mesh(n_points=176400) # creating a polar coordinates mesh\n",
        "  # using function to fit polynomials to the wavefront frame\n",
        "  co1,_ = fit_polynomials(\n",
        "\t  phases_image=f,\n",
        "\t  polynomials=h,\n",
        "\t  crop_radius=1.0,\n",
        "\t  suppress_warnings= False,\n",
        "\t  strict_circle_border= True,\n",
        "\t  round_digits= 4,\n",
        "\t  return_cropped_image= False\n",
        "  )\n",
        "  zernike_cof[i,:]=co1    #saving the coefficients\n",
        "  phase = generate_phases_image(polynomials=h, polynomials_amplitudes=co1, img_width=420, img_height=420)  #generating the image from zernike coefficients\n",
        "  residue = phase - f*(mask) #subtrating the original wavefront with zernike projected image to find the residue\n",
        "  rms_value.append(rms(residue))\n",
        "  if i%100==0:\n",
        "    print(i, \"iterations completed\")\n",
        "df = pd.DataFrame(zernike_cof)\n",
        "#saving zernike coefficients to excel file\n",
        "df.to_excel(\"zernike_coefficients_1000.xlsx\", index=True, header=True, engine=\"openpyxl\")\n",
        "files.download(\"zernike_coefficients_1000.xlsx\")\n",
        "#saving the phase_values to another excel file\n",
        "df2 = pd.DataFrame(rms_value)\n",
        "df2.to_excel(\"rms_phase.xlsx\", index=True, header=True, engine=\"openpyxl\")\n",
        "files.download(\"rms_phase.xlsx\")"
      ],
      "metadata": {
        "id": "mjOHJZ-4iA-P"
      },
      "execution_count": null,
      "outputs": []
    },
    {
      "cell_type": "code",
      "source": [
        "# Plotting the Zernike_fitted wavefront against original wavefront\n",
        "\n",
        "phase = generate_phases_image(polynomials=h, polynomials_amplitudes=co1, img_width=420, img_height=420)\n",
        "\n",
        "vmin = min(phase.min(), f.min())\n",
        "vmax = max(phase.max(), f.max())\n",
        "\n",
        "# 10. Plot the Original and Fitted Wavefronts with a common color scale\n",
        "fig, ax = plt.subplots(1, 2, figsize=(10, 5))\n",
        "\n",
        "# Plot original wavefront\n",
        "im1 = ax[0].imshow(phase, extent=[0, 400, 0, 400], cmap='jet', vmin=vmin, vmax=vmax)\n",
        "ax[0].set_title(\"Zernike-Fitted Wavefront\")\n",
        "ax[0].set_xlabel(\"X\")\n",
        "ax[0].set_ylabel(\"Y\")\n",
        "\n",
        "# Plot fitted wavefront\n",
        "im2 = ax[1].imshow(f*mask, extent=[0, 400, 0, 400], cmap='jet', vmin=vmin, vmax=vmax)\n",
        "ax[1].set_title(\"Original wavefront\")\n",
        "ax[1].set_xlabel(\"X\")\n",
        "ax[1].set_ylabel(\"Y\")\n",
        "\n",
        "# Add a single shared colorbar\n",
        "cbar = fig.colorbar(im2, ax=ax, orientation=\"vertical\", fraction=0.05, pad=0.02)\n",
        "cbar.set_label(\"Wavefront Phase (rad)\")\n",
        "plt.show()\n",
        "\n",
        "sum =0\n",
        "for i in range(len(co1)):\n",
        "  sum+= co1[i]**2\n",
        "print(np.sqrt(sum + (rms(residue))**2 ))\n",
        "print(rms(f*mask))"
      ],
      "metadata": {
        "id": "6f8N0sIUj2AU"
      },
      "execution_count": null,
      "outputs": []
    }
  ]
}